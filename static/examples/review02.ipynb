{
 "cells": [
  {
   "cell_type": "code",
   "execution_count": 3,
   "metadata": {},
   "outputs": [
    {
     "name": "stdout",
     "output_type": "stream",
     "text": [
      "18.966666666666665\n",
      "3.02\n",
      "21.986666666666665\n"
     ]
    }
   ],
   "source": [
    "import statistics\n",
    "\n",
    "math = [10., 11., 8., 3., 1., 2.]\n",
    "phys = [6., 4., 5., 3., 3.2, 1.]\n",
    "\n",
    "print(statistics.variance(math))\n",
    "print(statistics.variance(phys))\n",
    "\n",
    "print(statistics.variance(math) + statistics.variance(phys))\n"
   ]
  },
  {
   "cell_type": "code",
   "execution_count": 9,
   "metadata": {},
   "outputs": [
    {
     "name": "stdout",
     "output_type": "stream",
     "text": [
      "Explained variance per component: [20.8178763   1.16879037]\n",
      "Raw variance explained: 21.99\n",
      "Explained variance ratio per component: [0.94684095 0.05315905]\n"
     ]
    }
   ],
   "source": [
    "import numpy as np\n",
    "from sklearn.decomposition import PCA\n",
    "from sklearn.preprocessing import StandardScaler\n",
    "\n",
    "# Your data arrays\n",
    "math = np.array([10., 11., 8., 3., 1., 2.])\n",
    "phys = np.array([6., 4., 5., 3., 3.2, 1.])\n",
    "\n",
    "# Combine the arrays into a single dataset\n",
    "data = np.vstack((math, phys)).T\n",
    "\n",
    "# Apply PCA\n",
    "pca = PCA(n_components=2)\n",
    "pca.fit(data)\n",
    "\n",
    "print('Explained variance per component:', pca.explained_variance_)\n",
    "\n",
    "# Calculate the raw amount of variance explained by the first two principal components\n",
    "raw_variance_explained = np.sum(pca.explained_variance_)\n",
    "\n",
    "print(f\"Raw variance explained: {raw_variance_explained:.2f}\")\n",
    "\n",
    "print('Explained variance ratio per component:', pca.explained_variance_ratio_)"
   ]
  },
  {
   "cell_type": "code",
   "execution_count": 13,
   "metadata": {},
   "outputs": [
    {
     "name": "stdout",
     "output_type": "stream",
     "text": [
      "Lagrange multipliers (dual coefficients): [[-1.  1.]]\n",
      "Support vectors: [[3. 2.]\n",
      " [2. 3.]]\n"
     ]
    }
   ],
   "source": [
    "# Import necessary libraries\n",
    "from sklearn import svm\n",
    "import numpy as np\n",
    "\n",
    "# Define the points and labels (support vectors with their classes)\n",
    "X = np.array([[3, 2], [2, 3], [2, 4]])  # Points: [3,2] and [2,3]\n",
    "y = np.array([-1, 1, 1])  # Labels: -1 for [3,2] and 1 for [2,3]\n",
    "\n",
    "# Create and train the SVM model with a linear kernel\n",
    "clf = svm.SVC(kernel='linear')\n",
    "clf.fit(X, y)\n",
    "\n",
    "# Get the Lagrange multipliers (dual coefficients) and support vectors\n",
    "alpha = clf.dual_coef_  # Dual coefficients (Lagrange multipliers)\n",
    "support_vectors = clf.support_vectors_  # Support vectors\n",
    "\n",
    "# Print the Lagrange multipliers and support vectors\n",
    "print(\"Lagrange multipliers (dual coefficients):\", alpha)\n",
    "print(\"Support vectors:\", support_vectors)"
   ]
  }
 ],
 "metadata": {
  "kernelspec": {
   "display_name": "Python 3",
   "language": "python",
   "name": "python3"
  },
  "language_info": {
   "codemirror_mode": {
    "name": "ipython",
    "version": 3
   },
   "file_extension": ".py",
   "mimetype": "text/x-python",
   "name": "python",
   "nbconvert_exporter": "python",
   "pygments_lexer": "ipython3",
   "version": "3.9.6"
  }
 },
 "nbformat": 4,
 "nbformat_minor": 2
}
